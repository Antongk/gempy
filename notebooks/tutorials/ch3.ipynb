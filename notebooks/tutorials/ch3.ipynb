{
 "cells": [
  {
   "cell_type": "markdown",
   "metadata": {},
   "source": [
    "# Chapter 3: Stochastic Simulations in pymc2\n",
    "\n",
    "This tutorial will show you how to use GemPy for stochastic simulation of geological models. We will address two approaches for this: (i) Monte Carlo forward simulation, treating input data as uncertain parameter distributions; (ii) Bayesian inference, where we extent the approach with the use of likelihood functions to constrain the stochastic modeling results with additional data."
   ]
  },
  {
   "cell_type": "markdown",
   "metadata": {},
   "source": [
    "\n",
    "## Preparation\n",
    "\n",
    "Import GemPy, matplotlib for plotting, numpy and pandas for data handling."
   ]
  },
  {
   "cell_type": "code",
   "execution_count": 1,
   "metadata": {},
   "outputs": [
    {
     "name": "stderr",
     "output_type": "stream",
     "text": [
      "../../gempy/plotting/visualization.py:36: UserWarning: Steno 3D package is not installed. No 3D online visualization available.\n",
      "  warnings.warn('Steno 3D package is not installed. No 3D online visualization available.')\n",
      "../../gempy/posterior_analysis.py:28: UserWarning: pymc (v3) package is not installed. No support for stochastic simulation posterior analysis.\n",
      "  warnings.warn(\"pymc (v3) package is not installed. No support for stochastic simulation posterior analysis.\")\n"
     ]
    }
   ],
   "source": [
    "import sys, os\n",
    "sys.path.append(\"../..\")\n",
    "\n",
    "# import gempy\n",
    "import gempy as gp\n",
    "\n",
    "# inline figures in jupyter notebooks\n",
    "import matplotlib.pyplot as plt\n",
    "%matplotlib inline\n",
    "\n",
    "import numpy as np\n",
    "import pandas as pn\n",
    "import theano"
   ]
  },
  {
   "cell_type": "markdown",
   "metadata": {},
   "source": [
    "## Initialize an example model\n",
    "\n",
    "First we define the cube size and model extent of our model and initialize the GemPy data object:"
   ]
  },
  {
   "cell_type": "code",
   "execution_count": 2,
   "metadata": {},
   "outputs": [],
   "source": [
    "# set cube size and model extent\n",
    "cs = 50\n",
    "extent = (3000, 200, 2000)  # (x, y, z)\n",
    "res = (120, 4, 80)"
   ]
  },
  {
   "cell_type": "code",
   "execution_count": 3,
   "metadata": {},
   "outputs": [],
   "source": [
    "# initialize geo_data object\n",
    "geo_data = gp.create_data([0, extent[0],\n",
    "                           0, extent[1], \n",
    "                           0, extent[2]],\n",
    "                          resolution=[res[0],  # number of voxels\n",
    "                                      res[1], \n",
    "                                      res[2]])"
   ]
  },
  {
   "cell_type": "markdown",
   "metadata": {},
   "source": [
    "Then we use pandas to load the example data stored as csv files:"
   ]
  },
  {
   "cell_type": "code",
   "execution_count": 4,
   "metadata": {},
   "outputs": [
    {
     "name": "stderr",
     "output_type": "stream",
     "text": [
      "/home/miguel/anaconda3/lib/python3.6/site-packages/pandas/core/frame.py:6211: FutureWarning: Sorting because non-concatenation axis is not aligned. A future version\n",
      "of pandas will change to not sort by default.\n",
      "\n",
      "To accept the future behavior, pass 'sort=False'.\n",
      "\n",
      "To retain the current behavior and silence the warning, pass 'sort=True'.\n",
      "\n",
      "  sort=sort)\n"
     ]
    }
   ],
   "source": [
    "geo_data.set_interfaces(pn.read_csv(\"../input_data/tut_chapter3/tutorial_ch3_interfaces\",\n",
    "                                    index_col=\"Unnamed: 0\"), append=True)\n",
    "geo_data.set_orientations(pn.read_csv(\"../input_data/tut_chapter3/tutorial_ch3_foliations\",\n",
    "                                    index_col=\"Unnamed: 0\"))"
   ]
  },
  {
   "cell_type": "markdown",
   "metadata": {},
   "source": [
    "We can visualize (and modify making use of an interactive backend) the stratigraphic pile. Since the formations are arbitary we can set them by:"
   ]
  },
  {
   "cell_type": "code",
   "execution_count": 5,
   "metadata": {},
   "outputs": [
    {
     "data": {
      "text/plain": [
       "<gempy.plotting.sequential_pile.StratigraphicPile at 0x7fb3a72a3a20>"
      ]
     },
     "execution_count": 5,
     "metadata": {},
     "output_type": "execute_result"
    },
    {
     "data": {
      "image/png": "[encoded data removed]",
      "text/plain": [
       "<Figure size 432x288 with 1 Axes>"
      ]
     },
     "metadata": {
      "needs_background": "light"
     },
     "output_type": "display_data"
    }
   ],
   "source": [
    "# Original pile\n",
    "gp.get_sequential_pile(geo_data)"
   ]
  },
  {
   "cell_type": "code",
   "execution_count": 6,
   "metadata": {},
   "outputs": [
    {
     "data": {
      "text/plain": [
       "<gempy.plotting.sequential_pile.StratigraphicPile at 0x7fb3a70b55f8>"
      ]
     },
     "execution_count": 6,
     "metadata": {},
     "output_type": "execute_result"
    },
    {
     "data": {
      "image/png": "[encoded data removed]",
      "text/plain": [
       "<Figure size 432x288 with 1 Axes>"
      ]
     },
     "metadata": {
      "needs_background": "light"
     },
     "output_type": "display_data"
    }
   ],
   "source": [
    "# Ordered pile\n",
    "gp.set_series(geo_data, {'Default_series':['Layer 2', 'Layer 3', 'Layer 4','Layer 5']})\n",
    "gp.get_sequential_pile(geo_data)"
   ]
  },
  {
   "cell_type": "code",
   "execution_count": 7,
   "metadata": {
    "scrolled": true
   },
   "outputs": [
    {
     "data": {
      "text/html": [
       "<div>\n",
       "<style scoped>\n",
       "    .dataframe tbody tr th:only-of-type {\n",
       "        vertical-align: middle;\n",
       "    }\n",
       "\n",
       "    .dataframe tbody tr th {\n",
       "        vertical-align: top;\n",
       "    }\n",
       "\n",
       "    .dataframe thead th {\n",
       "        text-align: right;\n",
       "    }\n",
       "</style>\n",
       "<table border=\"1\" class=\"dataframe\">\n",
       "  <thead>\n",
       "    <tr style=\"text-align: right;\">\n",
       "      <th></th>\n",
       "      <th>X</th>\n",
       "      <th>Y</th>\n",
       "      <th>Z</th>\n",
       "      <th>G_x</th>\n",
       "      <th>G_y</th>\n",
       "      <th>G_z</th>\n",
       "      <th>dip</th>\n",
       "      <th>azimuth</th>\n",
       "      <th>polarity</th>\n",
       "      <th>formation</th>\n",
       "      <th>series</th>\n",
       "      <th>formation_number</th>\n",
       "      <th>order_series</th>\n",
       "      <th>isFault</th>\n",
       "    </tr>\n",
       "  </thead>\n",
       "  <tbody>\n",
       "    <tr>\n",
       "      <th>0</th>\n",
       "      <td>500.0</td>\n",
       "      <td>100.0</td>\n",
       "      <td>1148.000000</td>\n",
       "      <td>-0.516992</td>\n",
       "      <td>-0.008559</td>\n",
       "      <td>0.855947</td>\n",
       "      <td>31.135451</td>\n",
       "      <td>269.051481</td>\n",
       "      <td>1.0</td>\n",
       "      <td>Layer 2</td>\n",
       "      <td>Default_series</td>\n",
       "      <td>1</td>\n",
       "      <td>1</td>\n",
       "      <td>False</td>\n",
       "    </tr>\n",
       "    <tr>\n",
       "      <th>1</th>\n",
       "      <td>2500.0</td>\n",
       "      <td>100.0</td>\n",
       "      <td>1147.333333</td>\n",
       "      <td>0.516122</td>\n",
       "      <td>-0.014273</td>\n",
       "      <td>0.856396</td>\n",
       "      <td>31.085652</td>\n",
       "      <td>91.584103</td>\n",
       "      <td>1.0</td>\n",
       "      <td>Layer 2</td>\n",
       "      <td>Default_series</td>\n",
       "      <td>1</td>\n",
       "      <td>1</td>\n",
       "      <td>False</td>\n",
       "    </tr>\n",
       "  </tbody>\n",
       "</table>\n",
       "</div>"
      ],
      "text/plain": [
       "        X      Y            Z       G_x       G_y       G_z        dip  \\\n",
       "0   500.0  100.0  1148.000000 -0.516992 -0.008559  0.855947  31.135451   \n",
       "1  2500.0  100.0  1147.333333  0.516122 -0.014273  0.856396  31.085652   \n",
       "\n",
       "      azimuth  polarity formation          series  formation_number  \\\n",
       "0  269.051481       1.0   Layer 2  Default_series                 1   \n",
       "1   91.584103       1.0   Layer 2  Default_series                 1   \n",
       "\n",
       "   order_series  isFault  \n",
       "0             1    False  \n",
       "1             1    False  "
      ]
     },
     "execution_count": 7,
     "metadata": {},
     "output_type": "execute_result"
    }
   ],
   "source": [
    "# and at all of the foliation data\n",
    "gp.get_data(geo_data, 'orientations', verbosity=0)"
   ]
  },
  {
   "cell_type": "markdown",
   "metadata": {},
   "source": [
    "## Visualize the input data\n",
    "\n",
    "Now let's have a look at the data in the xz-plane:"
   ]
  },
  {
   "cell_type": "code",
   "execution_count": 8,
   "metadata": {},
   "outputs": [
    {
     "name": "stderr",
     "output_type": "stream",
     "text": [
      "../../gempy/gempy_front.py:927: FutureWarning: gempy plotting functionality will be moved in version 1.2, use gempy.plotting module instead\n",
      "  warnings.warn(\"gempy plotting functionality will be moved in version 1.2, use gempy.plotting module instead\", FutureWarning)\n"
     ]
    },
    {
     "data": {
      "image/png": "[encoded data removed]",
      "text/plain": [
       "<Figure size 540x360 with 1 Axes>"
      ]
     },
     "metadata": {},
     "output_type": "display_data"
    }
   ],
   "source": [
    "gp.plot_data(geo_data, direction=\"y\")\n",
    "plt.xlim(0,3000)\n",
    "plt.ylim(0,2000);"
   ]
  },
  {
   "cell_type": "markdown",
   "metadata": {},
   "source": [
    "At this point we should store the input data object as a pickle, for future reference:"
   ]
  },
  {
   "cell_type": "code",
   "execution_count": 9,
   "metadata": {},
   "outputs": [],
   "source": [
    "gp.data_to_pickle(geo_data, \"./bin/pickles/ch3-pymc2_tutorial_geo_data\")"
   ]
  },
  {
   "cell_type": "markdown",
   "metadata": {},
   "source": [
    "## Compile the interpolator function\n",
    "\n",
    "Now that we have some input data, the next step is to compile the interpolator function of GemPy with the imported model setup and data:"
   ]
  },
  {
   "cell_type": "code",
   "execution_count": 10,
   "metadata": {},
   "outputs": [
    {
     "name": "stdout",
     "output_type": "stream",
     "text": [
      "Compiling theano function...\n",
      "Compilation Done!\n",
      "Level of Optimization:  fast_compile\n",
      "Device:  cpu\n",
      "Precision:  float32\n",
      "Number of faults:  0\n"
     ]
    }
   ],
   "source": [
    "interp_data = gp.InterpolatorData(geo_data, compile_theano=True)"
   ]
  },
  {
   "cell_type": "markdown",
   "metadata": {},
   "source": [
    "Afterwards we can compute the geological model:"
   ]
  },
  {
   "cell_type": "code",
   "execution_count": 11,
   "metadata": {
    "scrolled": true
   },
   "outputs": [
    {
     "name": "stderr",
     "output_type": "stream",
     "text": [
      "/home/miguel/anaconda3/lib/python3.6/site-packages/theano/tensor/subtensor.py:2339: FutureWarning: Using a non-tuple sequence for multidimensional indexing is deprecated; use `arr[tuple(seq)]` instead of `arr[seq]`. In the future this will be interpreted as an array index, `arr[np.array(seq)]`, which will result either in an error or a different result.\n",
      "  out[0][inputs[2:]] = inputs[1]\n"
     ]
    }
   ],
   "source": [
    "lith_block, fault_block = gp.compute_model(interp_data)"
   ]
  },
  {
   "cell_type": "markdown",
   "metadata": {},
   "source": [
    "And plot a section:"
   ]
  },
  {
   "cell_type": "code",
   "execution_count": 12,
   "metadata": {},
   "outputs": [
    {
     "data": {
      "image/png": "[encoded data removed]",
      "text/plain": [
       "<Figure size 540x360 with 1 Axes>"
      ]
     },
     "metadata": {},
     "output_type": "display_data"
    }
   ],
   "source": [
    "gp.plotting.plot_section(geo_data, lith_block[0], 2, plot_data = True)"
   ]
  },
  {
   "cell_type": "markdown",
   "metadata": {},
   "source": [
    "## Setting up the pymc-Functions\n",
    "\n",
    "pymc has two distinct types of objects: **deterministic** and **stochastic** objects. As the [pymc documentation](https://pymc-devs.github.io/pymc/modelbuilding.html)  puts it: \"A *Stochastic* object represents a variable whose value is not completely determined by its parents, and a *Deterministic* object represents a variable that is entirely determined by its parents.\" Stochastic objects can essentially be seen as *parameter distributions* or *likelihood functions*, while Deterministic objects can be seen as function that take a specific input and return a specific (determined) output for this input. An example for the latter would be the modeling function of GemPy, which takes a specific set of input parameters and always creates the same model from those parameters."
   ]
  },
  {
   "cell_type": "code",
   "execution_count": 13,
   "metadata": {},
   "outputs": [],
   "source": [
    "import pymc"
   ]
  },
  {
   "cell_type": "markdown",
   "metadata": {},
   "source": [
    "## Setting up the parameter distributions\n",
    "\n",
    "For conducting a stochastic simulation of the geological model, we need to consider our input data (dips and layer interfaces) as uncertain - i.e. as distributions."
   ]
  },
  {
   "cell_type": "code",
   "execution_count": 14,
   "metadata": {},
   "outputs": [],
   "source": [
    "# Checkpoint in case you did not execute the cells above\n",
    "geo_data = gp.read_pickle(\"bin/pickles/ch3-pymc2_tutorial_geo_data.pickle\")"
   ]
  },
  {
   "cell_type": "code",
   "execution_count": 15,
   "metadata": {},
   "outputs": [
    {
     "data": {
      "text/html": [
       "<div>\n",
       "<style scoped>\n",
       "    .dataframe tbody tr th:only-of-type {\n",
       "        vertical-align: middle;\n",
       "    }\n",
       "\n",
       "    .dataframe tbody tr th {\n",
       "        vertical-align: top;\n",
       "    }\n",
       "\n",
       "    .dataframe thead th {\n",
       "        text-align: right;\n",
       "    }\n",
       "</style>\n",
       "<table border=\"1\" class=\"dataframe\">\n",
       "  <thead>\n",
       "    <tr style=\"text-align: right;\">\n",
       "      <th></th>\n",
       "      <th>X</th>\n",
       "      <th>Y</th>\n",
       "      <th>Z</th>\n",
       "      <th>G_x</th>\n",
       "      <th>G_y</th>\n",
       "      <th>G_z</th>\n",
       "      <th>dip</th>\n",
       "      <th>azimuth</th>\n",
       "      <th>polarity</th>\n",
       "      <th>formation</th>\n",
       "      <th>series</th>\n",
       "      <th>formation_number</th>\n",
       "      <th>order_series</th>\n",
       "      <th>isFault</th>\n",
       "      <th>formation_value</th>\n",
       "      <th>annotations</th>\n",
       "    </tr>\n",
       "  </thead>\n",
       "  <tbody>\n",
       "    <tr>\n",
       "      <th>0</th>\n",
       "      <td>500.0</td>\n",
       "      <td>100.0</td>\n",
       "      <td>1148.000000</td>\n",
       "      <td>-0.516992</td>\n",
       "      <td>-0.008559</td>\n",
       "      <td>0.855947</td>\n",
       "      <td>31.135451</td>\n",
       "      <td>269.051481</td>\n",
       "      <td>1.0</td>\n",
       "      <td>Layer 2</td>\n",
       "      <td>Default_series</td>\n",
       "      <td>1</td>\n",
       "      <td>1</td>\n",
       "      <td>False</td>\n",
       "      <td>1</td>\n",
       "      <td>${\\bf{x}}_{\\beta \\,{\\bf{1}},0}$</td>\n",
       "    </tr>\n",
       "    <tr>\n",
       "      <th>1</th>\n",
       "      <td>2500.0</td>\n",
       "      <td>100.0</td>\n",
       "      <td>1147.333333</td>\n",
       "      <td>0.516122</td>\n",
       "      <td>-0.014273</td>\n",
       "      <td>0.856396</td>\n",
       "      <td>31.085652</td>\n",
       "      <td>91.584103</td>\n",
       "      <td>1.0</td>\n",
       "      <td>Layer 2</td>\n",
       "      <td>Default_series</td>\n",
       "      <td>1</td>\n",
       "      <td>1</td>\n",
       "      <td>False</td>\n",
       "      <td>1</td>\n",
       "      <td>${\\bf{x}}_{\\beta \\,{\\bf{1}},1}$</td>\n",
       "    </tr>\n",
       "  </tbody>\n",
       "</table>\n",
       "</div>"
      ],
      "text/plain": [
       "        X      Y            Z       G_x       G_y       G_z        dip  \\\n",
       "0   500.0  100.0  1148.000000 -0.516992 -0.008559  0.855947  31.135451   \n",
       "1  2500.0  100.0  1147.333333  0.516122 -0.014273  0.856396  31.085652   \n",
       "\n",
       "      azimuth  polarity formation          series  formation_number  \\\n",
       "0  269.051481       1.0   Layer 2  Default_series                 1   \n",
       "1   91.584103       1.0   Layer 2  Default_series                 1   \n",
       "\n",
       "   order_series  isFault  formation_value                      annotations  \n",
       "0             1    False                1  ${\\bf{x}}_{\\beta \\,{\\bf{1}},0}$  \n",
       "1             1    False                1  ${\\bf{x}}_{\\beta \\,{\\bf{1}},1}$  "
      ]
     },
     "execution_count": 15,
     "metadata": {},
     "output_type": "execute_result"
    }
   ],
   "source": [
    "gp.get_data(geo_data, 'orientations', verbosity=1).head()"
   ]
  },
  {
   "cell_type": "markdown",
   "metadata": {},
   "source": [
    "So let's assume the vertical location of our layer interfaces is uncertain, and we want to represent this uncertainty by using a normal distribution. To define a normal distribution, we need a mean and a measure of deviation (e.g. standard deviation). For convenience the input data is already grouped by a \"group_id\" value, which allows us to collectively modify data that belongs together. In this example we want to treat the vertical position of each layer interface, on each side of the anticline, as uncertain. Therefore, we want to perturbate the respective three points on each side of the anticline collectively."
   ]
  },
  {
   "cell_type": "markdown",
   "metadata": {},
   "source": [
    "These are our unique group id's, the number representing the layer, and a/b the side of the anticline."
   ]
  },
  {
   "cell_type": "code",
   "execution_count": 16,
   "metadata": {},
   "outputs": [
    {
     "name": "stdout",
     "output_type": "stream",
     "text": [
      "['l2_a' 'l2_b' 'l3_b' 'l3_a' 'l4_a' 'l4_b' 'l5_b' 'l5_a']\n"
     ]
    }
   ],
   "source": [
    "group_ids = geo_data.interfaces[\"group_id\"].dropna().unique()\n",
    "print(group_ids)"
   ]
  },
  {
   "cell_type": "markdown",
   "metadata": {},
   "source": [
    "As a reminder, GemPy stores data in two main objects, an InputData object (called geo_data in the tutorials) and a InpterpolatorInput object (interp_data) in tutorials. geo_data contains the original data while interp_data the data prepared (and compiled) to compute the 3D model. \n",
    "\n",
    "Since we do not want to compile our code at every new stochastic realization, from here on we will need to work with thte interp_data. And remember that to improve float32 to stability we need to work with rescaled data (between 0 and 1). Therefore all the stochastic data needs to be rescaled accordingly. The object interp_data contains a property with the rescale factor (see below. As default depends on the model extent), or it is possible to add the stochastic data to the pandas dataframe of the geo_data---when the InterpolatorInput object is created the rescaling happens under the hood. "
   ]
  },
  {
   "cell_type": "code",
   "execution_count": 17,
   "metadata": {},
   "outputs": [],
   "source": [
    "interface_Z_modifier = []\n",
    "\n",
    "# We rescale the standard deviation\n",
    "std = 20./interp_data.rescaling_factor\n",
    "\n",
    "# loop over the unique group id's and create a pymc.Normal distribution for each\n",
    "for gID in group_ids:\n",
    "    stoch = pymc.Normal(gID+'_stoch', 0, 1./std**2)\n",
    "    interface_Z_modifier.append(stoch)"
   ]
  },
  {
   "cell_type": "markdown",
   "metadata": {},
   "source": [
    "our list of parameter distribution:"
   ]
  },
  {
   "cell_type": "code",
   "execution_count": 18,
   "metadata": {},
   "outputs": [
    {
     "data": {
      "text/plain": [
       "[<pymc.distributions.new_dist_class.<locals>.new_class 'l2_a_stoch' at 0x7fb3a6f8a320>,\n",
       " <pymc.distributions.new_dist_class.<locals>.new_class 'l2_b_stoch' at 0x7fb3a6f93080>,\n",
       " <pymc.distributions.new_dist_class.<locals>.new_class 'l3_b_stoch' at 0x7fb3a04a5c18>,\n",
       " <pymc.distributions.new_dist_class.<locals>.new_class 'l3_a_stoch' at 0x7fb3a04a5908>,\n",
       " <pymc.distributions.new_dist_class.<locals>.new_class 'l4_a_stoch' at 0x7fb3a04a52e8>,\n",
       " <pymc.distributions.new_dist_class.<locals>.new_class 'l4_b_stoch' at 0x7fb3a04a5d68>,\n",
       " <pymc.distributions.new_dist_class.<locals>.new_class 'l5_b_stoch' at 0x7fb3a04a5748>,\n",
       " <pymc.distributions.new_dist_class.<locals>.new_class 'l5_a_stoch' at 0x7fb3a04a5860>]"
      ]
     },
     "execution_count": 18,
     "metadata": {},
     "output_type": "execute_result"
    }
   ],
   "source": [
    "interface_Z_modifier"
   ]
  },
  {
   "cell_type": "markdown",
   "metadata": {},
   "source": [
    "Let's have a look at one:"
   ]
  },
  {
   "cell_type": "code",
   "execution_count": 19,
   "metadata": {},
   "outputs": [
    {
     "name": "stderr",
     "output_type": "stream",
     "text": [
      "/home/miguel/anaconda3/lib/python3.6/site-packages/matplotlib/axes/_axes.py:6499: MatplotlibDeprecationWarning: \n",
      "The 'normed' kwarg was deprecated in Matplotlib 2.1 and will be removed in 3.1. Use 'density' instead.\n",
      "  alternative=\"'density'\", removal=\"3.1\")\n"
     ]
    },
    {
     "data": {
      "image/png": "[encoded data removed]",
      "text/plain": [
       "<Figure size 748.8x514.8 with 1 Axes>"
      ]
     },
     "metadata": {},
     "output_type": "display_data"
    }
   ],
   "source": [
    "# sample from a distribtion\n",
    "samples = [interface_Z_modifier[3].rand() for i in range(10000)]\n",
    "# plot histogram\n",
    "plt.hist(samples, bins=24, normed=True);\n",
    "plt.xlabel(\"Z modifier\")\n",
    "plt.vlines(0, 0, 0.01)\n",
    "plt.ylabel(\"n\");"
   ]
  },
  {
   "cell_type": "markdown",
   "metadata": {},
   "source": [
    " Now we need to somehow sample from these distribution and put them into GemPy"
   ]
  },
  {
   "cell_type": "markdown",
   "metadata": {},
   "source": [
    "## Input data handling\n",
    "\n",
    "First we need to write a function which modifies the input data for each iteration of the stochastic simulation. As this process is highly dependant on the simulation (e.g. what input parameters you want modified in which way), this process generally can't be automated. \n",
    "\n",
    "The idea is to change the column Z (in this case) of the rescaled dataframes in our interp_data object (which can be found in interp_data.geo_data_res). First we simply create the pandas Dataframes we are interested on:"
   ]
  },
  {
   "cell_type": "code",
   "execution_count": 20,
   "metadata": {},
   "outputs": [],
   "source": [
    "import copy\n",
    "# First we extract from our original intep_data object the numerical data that is necessary for the interpolation.\n",
    "# geo_data_stoch is a pandas Dataframe\n",
    "\n",
    "# This is the inital model so it has to be outside the stochastic frame\n",
    "geo_data_stoch_init = copy.deepcopy(interp_data.geo_data_res)"
   ]
  },
  {
   "cell_type": "code",
   "execution_count": 21,
   "metadata": {},
   "outputs": [
    {
     "data": {
      "text/html": [
       "<div>\n",
       "<style scoped>\n",
       "    .dataframe tbody tr th:only-of-type {\n",
       "        vertical-align: middle;\n",
       "    }\n",
       "\n",
       "    .dataframe tbody tr th {\n",
       "        vertical-align: top;\n",
       "    }\n",
       "\n",
       "    .dataframe thead th {\n",
       "        text-align: right;\n",
       "    }\n",
       "</style>\n",
       "<table border=\"1\" class=\"dataframe\">\n",
       "  <thead>\n",
       "    <tr style=\"text-align: right;\">\n",
       "      <th></th>\n",
       "      <th></th>\n",
       "      <th>X</th>\n",
       "      <th>Y</th>\n",
       "      <th>Z</th>\n",
       "      <th>G_x</th>\n",
       "      <th>G_y</th>\n",
       "      <th>G_z</th>\n",
       "      <th>dip</th>\n",
       "      <th>azimuth</th>\n",
       "      <th>polarity</th>\n",
       "    </tr>\n",
       "  </thead>\n",
       "  <tbody>\n",
       "    <tr>\n",
       "      <th rowspan=\"5\" valign=\"top\">interfaces</th>\n",
       "      <th>0</th>\n",
       "      <td>0.295555</td>\n",
       "      <td>0.481918</td>\n",
       "      <td>0.563100</td>\n",
       "      <td>NaN</td>\n",
       "      <td>NaN</td>\n",
       "      <td>NaN</td>\n",
       "      <td>NaN</td>\n",
       "      <td>NaN</td>\n",
       "      <td>NaN</td>\n",
       "    </tr>\n",
       "    <tr>\n",
       "      <th>1</th>\n",
       "      <td>0.386464</td>\n",
       "      <td>0.500100</td>\n",
       "      <td>0.618191</td>\n",
       "      <td>NaN</td>\n",
       "      <td>NaN</td>\n",
       "      <td>NaN</td>\n",
       "      <td>NaN</td>\n",
       "      <td>NaN</td>\n",
       "      <td>NaN</td>\n",
       "    </tr>\n",
       "    <tr>\n",
       "      <th>2</th>\n",
       "      <td>0.341009</td>\n",
       "      <td>0.518282</td>\n",
       "      <td>0.590918</td>\n",
       "      <td>NaN</td>\n",
       "      <td>NaN</td>\n",
       "      <td>NaN</td>\n",
       "      <td>NaN</td>\n",
       "      <td>NaN</td>\n",
       "      <td>NaN</td>\n",
       "    </tr>\n",
       "    <tr>\n",
       "      <th>3</th>\n",
       "      <td>0.750100</td>\n",
       "      <td>0.481918</td>\n",
       "      <td>0.562918</td>\n",
       "      <td>NaN</td>\n",
       "      <td>NaN</td>\n",
       "      <td>NaN</td>\n",
       "      <td>NaN</td>\n",
       "      <td>NaN</td>\n",
       "      <td>NaN</td>\n",
       "    </tr>\n",
       "    <tr>\n",
       "      <th>4</th>\n",
       "      <td>0.659191</td>\n",
       "      <td>0.500100</td>\n",
       "      <td>0.618009</td>\n",
       "      <td>NaN</td>\n",
       "      <td>NaN</td>\n",
       "      <td>NaN</td>\n",
       "      <td>NaN</td>\n",
       "      <td>NaN</td>\n",
       "      <td>NaN</td>\n",
       "    </tr>\n",
       "  </tbody>\n",
       "</table>\n",
       "</div>"
      ],
      "text/plain": [
       "                     X         Y         Z  G_x  G_y  G_z  dip  azimuth  \\\n",
       "interfaces 0  0.295555  0.481918  0.563100  NaN  NaN  NaN  NaN      NaN   \n",
       "           1  0.386464  0.500100  0.618191  NaN  NaN  NaN  NaN      NaN   \n",
       "           2  0.341009  0.518282  0.590918  NaN  NaN  NaN  NaN      NaN   \n",
       "           3  0.750100  0.481918  0.562918  NaN  NaN  NaN  NaN      NaN   \n",
       "           4  0.659191  0.500100  0.618009  NaN  NaN  NaN  NaN      NaN   \n",
       "\n",
       "              polarity  \n",
       "interfaces 0       NaN  \n",
       "           1       NaN  \n",
       "           2       NaN  \n",
       "           3       NaN  \n",
       "           4       NaN  "
      ]
     },
     "execution_count": 21,
     "metadata": {},
     "output_type": "execute_result"
    }
   ],
   "source": [
    "gp.get_data(geo_data_stoch_init, numeric=True).head()"
   ]
  },
  {
   "cell_type": "code",
   "execution_count": 22,
   "metadata": {},
   "outputs": [],
   "source": [
    "@pymc.deterministic(trace=True)\n",
    "def input_data(value = 0, \n",
    "               interface_Z_modifier = interface_Z_modifier,\n",
    "               geo_data_stoch_init = geo_data_stoch_init,\n",
    "               verbose=0):\n",
    "    # First we extract from our original intep_data object the numerical data that is necessary for the interpolation.\n",
    "    # geo_data_stoch is a pandas Dataframe\n",
    " #   geo_data_stoch = gp.get_data(interp_data_original.geo_data_res, numeric=True)\n",
    "\n",
    "    geo_data_stoch = gp.get_data(geo_data_stoch_init, numeric=True)\n",
    "    # Now we loop each id which share the same uncertainty variable. In this case, each layer.\n",
    "    for e, gID in enumerate(group_ids):\n",
    "        # First we obtain a boolean array with trues where the id coincide\n",
    "        sel = gp.get_data(interp_data.geo_data_res, verbosity=2)['group_id'] == gID\n",
    "        \n",
    "        # We add to the original Z value (its mean) the stochastic bit in the correspondant groups id \n",
    "        geo_data_stoch.loc[sel, 'Z']  += np.array(interface_Z_modifier[e])\n",
    "        \n",
    "    if verbose > 0:\n",
    "        print(geo_data_stoch)\n",
    "        \n",
    "    # then return the input data to be input into the modeling function. Due to the way pymc2 stores the traces\n",
    "    # We need to save the data as numpy arrays\n",
    "    return [geo_data_stoch.xs('interfaces')[[\"X\", \"Y\", \"Z\"]].values, geo_data_stoch.xs('orientations').values]"
   ]
  },
  {
   "cell_type": "markdown",
   "metadata": {},
   "source": [
    "## Modeling function\n",
    "\n",
    "Second, we need a function that takes the modified input data output by the above function, and created our geological model from it. Although, we could store the model itself it tends to be a too large file once we make thousands of iterations. For this reason is preferible to keep the input data and the geological model split and only to store the input data ( which we will use to reconstruct each geological model since that operation is deterministic)."
   ]
  },
  {
   "cell_type": "code",
   "execution_count": 23,
   "metadata": {
    "scrolled": false
   },
   "outputs": [
    {
     "name": "stderr",
     "output_type": "stream",
     "text": [
      "../../gempy/gempy_front.py:953: FutureWarning: gempy plotting functionality will be moved in version 1.2, use gempy.plotting module instead\n",
      "  \"use gempy.plotting module instead\", FutureWarning)\n"
     ]
    },
    {
     "data": {
      "image/png": "[encoded data removed]",
      "text/plain": [
       "<Figure size 540x360 with 1 Axes>"
      ]
     },
     "metadata": {},
     "output_type": "display_data"
    }
   ],
   "source": [
    "@pymc.deterministic(trace=False)\n",
    "def gempy_model(value=0,\n",
    "                input_data=input_data, verbose=True):\n",
    "    \n",
    "    # modify input data values accordingly\n",
    "    interp_data.geo_data_res.interfaces[[\"X\", \"Y\", \"Z\"]] = input_data[0]\n",
    "    \n",
    "    # Gx, Gy, Gz are just used for visualization.\n",
    "    # The theano function gets azimuth dip and polarity!!!\n",
    "    interp_data.geo_data_res.orientations[[\"G_x\", \"G_y\", \"G_z\", \"X\", \"Y\", \"Z\",\n",
    "                                           'dip', 'azimuth', 'polarity']] = input_data[1]\n",
    "    \n",
    "    try:\n",
    "        # try to compute model\n",
    "        lb, fb = gp.compute_model(interp_data)\n",
    "        if True:\n",
    "            gp.plot_section(interp_data.geo_data_res, lb[0], 0, plot_data=True)\n",
    "           # gp.plot_data(interp_data.geo_data_res, direction='y')\n",
    "\n",
    "        return lb, fb\n",
    "    \n",
    "    except np.linalg.linalg.LinAlgError as err:\n",
    "        # if it fails (e.g. some input data combinations could lead to \n",
    "        # a singular matrix and thus break the chain) return an empty model\n",
    "        # with same dimensions (just zeros)\n",
    "        if verbose:\n",
    "            print(\"Exception occured.\")\n",
    "        return np.zeros_like(lith_block), np.zeros_like(fault_block)"
   ]
  },
  {
   "cell_type": "code",
   "execution_count": 24,
   "metadata": {},
   "outputs": [
    {
     "data": {
      "text/html": [
       "<div>\n",
       "<style scoped>\n",
       "    .dataframe tbody tr th:only-of-type {\n",
       "        vertical-align: middle;\n",
       "    }\n",
       "\n",
       "    .dataframe tbody tr th {\n",
       "        vertical-align: top;\n",
       "    }\n",
       "\n",
       "    .dataframe thead th {\n",
       "        text-align: right;\n",
       "    }\n",
       "</style>\n",
       "<table border=\"1\" class=\"dataframe\">\n",
       "  <thead>\n",
       "    <tr style=\"text-align: right;\">\n",
       "      <th></th>\n",
       "      <th>X</th>\n",
       "      <th>Y</th>\n",
       "      <th>Z</th>\n",
       "      <th>G_x</th>\n",
       "      <th>G_y</th>\n",
       "      <th>G_z</th>\n",
       "      <th>dip</th>\n",
       "      <th>azimuth</th>\n",
       "      <th>polarity</th>\n",
       "      <th>formation</th>\n",
       "      <th>series</th>\n",
       "      <th>formation_number</th>\n",
       "      <th>order_series</th>\n",
       "      <th>isFault</th>\n",
       "      <th>formation_value</th>\n",
       "      <th>annotations</th>\n",
       "    </tr>\n",
       "  </thead>\n",
       "  <tbody>\n",
       "    <tr>\n",
       "      <th>0</th>\n",
       "      <td>-0.516992</td>\n",
       "      <td>-0.008559</td>\n",
       "      <td>0.855947</td>\n",
       "      <td>0.341009</td>\n",
       "      <td>0.5001</td>\n",
       "      <td>0.590736</td>\n",
       "      <td>31.135451</td>\n",
       "      <td>269.051481</td>\n",
       "      <td>1.0</td>\n",
       "      <td>Layer 2</td>\n",
       "      <td>Default_series</td>\n",
       "      <td>1</td>\n",
       "      <td>1</td>\n",
       "      <td>False</td>\n",
       "      <td>1</td>\n",
       "      <td>${\\bf{x}}_{\\beta \\,{\\bf{1}},0}$</td>\n",
       "    </tr>\n",
       "    <tr>\n",
       "      <th>1</th>\n",
       "      <td>0.516122</td>\n",
       "      <td>-0.014273</td>\n",
       "      <td>0.856396</td>\n",
       "      <td>0.704645</td>\n",
       "      <td>0.5001</td>\n",
       "      <td>0.590615</td>\n",
       "      <td>31.085652</td>\n",
       "      <td>91.584103</td>\n",
       "      <td>1.0</td>\n",
       "      <td>Layer 2</td>\n",
       "      <td>Default_series</td>\n",
       "      <td>1</td>\n",
       "      <td>1</td>\n",
       "      <td>False</td>\n",
       "      <td>1</td>\n",
       "      <td>${\\bf{x}}_{\\beta \\,{\\bf{1}},1}$</td>\n",
       "    </tr>\n",
       "  </tbody>\n",
       "</table>\n",
       "</div>"
      ],
      "text/plain": [
       "          X         Y         Z       G_x     G_y       G_z        dip  \\\n",
       "0 -0.516992 -0.008559  0.855947  0.341009  0.5001  0.590736  31.135451   \n",
       "1  0.516122 -0.014273  0.856396  0.704645  0.5001  0.590615  31.085652   \n",
       "\n",
       "      azimuth  polarity formation          series  formation_number  \\\n",
       "0  269.051481       1.0   Layer 2  Default_series                 1   \n",
       "1   91.584103       1.0   Layer 2  Default_series                 1   \n",
       "\n",
       "   order_series  isFault  formation_value                      annotations  \n",
       "0             1    False                1  ${\\bf{x}}_{\\beta \\,{\\bf{1}},0}$  \n",
       "1             1    False                1  ${\\bf{x}}_{\\beta \\,{\\bf{1}},1}$  "
      ]
     },
     "execution_count": 24,
     "metadata": {},
     "output_type": "execute_result"
    }
   ],
   "source": [
    "interp_data.geo_data_res.orientations"
   ]
  },
  {
   "cell_type": "markdown",
   "metadata": {},
   "source": [
    "We then create a pymc model with the two deterministic functions (*input_data* and *gempy_model*), as well as all the prior parameter distributions stored in the list *interface_Z_modifier*:"
   ]
  },
  {
   "cell_type": "code",
   "execution_count": 25,
   "metadata": {},
   "outputs": [],
   "source": [
    "params = [input_data, gempy_model, *interface_Z_modifier] \n",
    "model = pymc.Model(params)"
   ]
  },
  {
   "cell_type": "markdown",
   "metadata": {},
   "source": [
    "Then we set the number of iterations:"
   ]
  },
  {
   "cell_type": "code",
   "execution_count": 26,
   "metadata": {},
   "outputs": [],
   "source": [
    "iterations = 100"
   ]
  },
  {
   "cell_type": "markdown",
   "metadata": {},
   "source": [
    "Then we create an MCMC chain (in pymc an MCMC chain without a likelihood function is essentially a Monte Carlo forward simulation) and specify an hdf5 database to store the results in:"
   ]
  },
  {
   "cell_type": "code",
   "execution_count": 28,
   "metadata": {},
   "outputs": [],
   "source": [
    "RUN = pymc.MCMC(model, db=\"hdf5\", dbname=\"bin/pymc-db/ch3-pymc2.hdf5\")"
   ]
  },
  {
   "cell_type": "markdown",
   "metadata": {},
   "source": [
    "and we are finally able to run the simulation:"
   ]
  },
  {
   "cell_type": "code",
   "execution_count": 29,
   "metadata": {
    "scrolled": false
   },
   "outputs": [
    {
     "name": "stdout",
     "output_type": "stream",
     "text": [
      " [-----------------100%-----------------] 100 of 100 complete in 8.3 sec"
     ]
    }
   ],
   "source": [
    "RUN.sample(iter=100, verbose=0)"
   ]
  },
  {
   "cell_type": "markdown",
   "metadata": {},
   "source": [
    "## Analyzing the results\n",
    "\n",
    "When we want to analyze the results, we first have to load the stored geo_data object:\n",
    "\n",
    "(this part is only necessary if the notebook above is not executed)"
   ]
  },
  {
   "cell_type": "code",
   "execution_count": 30,
   "metadata": {},
   "outputs": [],
   "source": [
    "geo_data = gp.read_pickle(\"bin/pickles/ch3-pymc2_tutorial_geo_data.pickle\")"
   ]
  },
  {
   "cell_type": "markdown",
   "metadata": {},
   "source": [
    "Check the stratigraphic pile for correctness:"
   ]
  },
  {
   "cell_type": "code",
   "execution_count": 31,
   "metadata": {},
   "outputs": [
    {
     "data": {
      "text/plain": [
       "<gempy.plotting.sequential_pile.StratigraphicPile at 0x7fb3a6f93e10>"
      ]
     },
     "execution_count": 31,
     "metadata": {},
     "output_type": "execute_result"
    },
    {
     "data": {
      "image/png": "[encoded data removed]",
      "text/plain": [
       "<Figure size 748.8x514.8 with 1 Axes>"
      ]
     },
     "metadata": {},
     "output_type": "display_data"
    }
   ],
   "source": [
    "gp.get_sequential_pile(geo_data)"
   ]
  },
  {
   "cell_type": "markdown",
   "metadata": {},
   "source": [
    "Then we can then compile the GemPy modeling function:"
   ]
  },
  {
   "cell_type": "code",
   "execution_count": 32,
   "metadata": {
    "scrolled": true
   },
   "outputs": [],
   "source": [
    "interp_data = gp.InterpolatorData(geo_data)"
   ]
  },
  {
   "cell_type": "markdown",
   "metadata": {},
   "source": [
    "Now we can reproduce the original model:"
   ]
  },
  {
   "cell_type": "code",
   "execution_count": 33,
   "metadata": {},
   "outputs": [
    {
     "name": "stdout",
     "output_type": "stream",
     "text": [
      "Compiling theano function...\n",
      "Compilation Done!\n",
      "Level of Optimization:  fast_compile\n",
      "Device:  cpu\n",
      "Precision:  float32\n",
      "Number of faults:  0\n"
     ]
    },
    {
     "data": {
      "image/png": "[encoded data removed]",
      "text/plain": [
       "<Figure size 748.8x514.8 with 1 Axes>"
      ]
     },
     "metadata": {},
     "output_type": "display_data"
    }
   ],
   "source": [
    "lith_block, fault_block = gp.compute_model(interp_data)\n",
    "gp.plotting.plot_section(geo_data, lith_block[0], 0)"
   ]
  },
  {
   "cell_type": "markdown",
   "metadata": {},
   "source": [
    "But of course we want to look at the perturbation results. We have a class for that:\n",
    "\n",
    "(in the mid term the most important methods of this class will be moved to the gempy main framework---i.e. gp)"
   ]
  },
  {
   "cell_type": "code",
   "execution_count": 34,
   "metadata": {},
   "outputs": [
    {
     "name": "stderr",
     "output_type": "stream",
     "text": [
      "../../gempy/posterior_analysis.py:28: UserWarning: pymc (v3) package is not installed. No support for stochastic simulation posterior analysis.\n",
      "  warnings.warn(\"pymc (v3) package is not installed. No support for stochastic simulation posterior analysis.\")\n"
     ]
    },
    {
     "data": {
      "text/plain": [
       "<module 'gempy.posterior_analysis' from '../../gempy/posterior_analysis.py'>"
      ]
     },
     "execution_count": 34,
     "metadata": {},
     "output_type": "execute_result"
    }
   ],
   "source": [
    "import gempy.posterior_analysis\n",
    "import importlib\n",
    "importlib.reload(gempy.posterior_analysis)"
   ]
  },
  {
   "cell_type": "markdown",
   "metadata": {},
   "source": [
    "Which allows us to load the stored pymc2 database"
   ]
  },
  {
   "cell_type": "code",
   "execution_count": 35,
   "metadata": {},
   "outputs": [],
   "source": [
    "dbname = \"bin/pymc-db/ch3-pymc2.hdf5\"\n",
    "post = gempy.posterior_analysis.Posterior(dbname)"
   ]
  },
  {
   "cell_type": "markdown",
   "metadata": {},
   "source": [
    "Alright, it tells us that we did not tally any GemPy models (we set the trace flag for the gempy_model function to False!). But we can just replace the input data with the ones stored at each iteration. So let's plot the model result of the 85th iteration:"
   ]
  },
  {
   "cell_type": "code",
   "execution_count": 36,
   "metadata": {},
   "outputs": [
    {
     "data": {
      "text/plain": [
       "<gempy.interpolator.InterpolatorData at 0x7fb39e278dd8>"
      ]
     },
     "execution_count": 36,
     "metadata": {},
     "output_type": "execute_result"
    }
   ],
   "source": [
    "post.change_input_data(interp_data, 80)"
   ]
  },
  {
   "cell_type": "markdown",
   "metadata": {},
   "source": [
    "Then we compute the model and plot it:"
   ]
  },
  {
   "cell_type": "code",
   "execution_count": 37,
   "metadata": {
    "scrolled": false
   },
   "outputs": [
    {
     "data": {
      "image/png": "[encoded data removed]",
      "text/plain": [
       "<Figure size 540x360 with 1 Axes>"
      ]
     },
     "metadata": {},
     "output_type": "display_data"
    }
   ],
   "source": [
    "lith_block, fault_block = gp.compute_model(interp_data)\n",
    "gp.plotting.plot_section(interp_data.geo_data_res, lith_block[0], 2, plot_data=True)"
   ]
  },
  {
   "cell_type": "code",
   "execution_count": 38,
   "metadata": {},
   "outputs": [
    {
     "data": {
      "text/html": [
       "<div>\n",
       "<style scoped>\n",
       "    .dataframe tbody tr th:only-of-type {\n",
       "        vertical-align: middle;\n",
       "    }\n",
       "\n",
       "    .dataframe tbody tr th {\n",
       "        vertical-align: top;\n",
       "    }\n",
       "\n",
       "    .dataframe thead th {\n",
       "        text-align: right;\n",
       "    }\n",
       "</style>\n",
       "<table border=\"1\" class=\"dataframe\">\n",
       "  <thead>\n",
       "    <tr style=\"text-align: right;\">\n",
       "      <th></th>\n",
       "      <th>X</th>\n",
       "      <th>X_std</th>\n",
       "      <th>Y</th>\n",
       "      <th>Y_std</th>\n",
       "      <th>Z</th>\n",
       "      <th>Z_std</th>\n",
       "      <th>annotations</th>\n",
       "      <th>formation</th>\n",
       "      <th>formation_number</th>\n",
       "      <th>formation_value</th>\n",
       "      <th>group_id</th>\n",
       "      <th>isFault</th>\n",
       "      <th>order_series</th>\n",
       "      <th>series</th>\n",
       "    </tr>\n",
       "  </thead>\n",
       "  <tbody>\n",
       "    <tr>\n",
       "      <th>0</th>\n",
       "      <td>0.295555</td>\n",
       "      <td>0.0</td>\n",
       "      <td>0.481918</td>\n",
       "      <td>0.0</td>\n",
       "      <td>0.562503</td>\n",
       "      <td>0.0</td>\n",
       "      <td>${\\bf{x}}_{\\alpha \\,{\\bf{1}},0}$</td>\n",
       "      <td>Layer 2</td>\n",
       "      <td>1</td>\n",
       "      <td>1</td>\n",
       "      <td>l2_a</td>\n",
       "      <td>False</td>\n",
       "      <td>1</td>\n",
       "      <td>Default_series</td>\n",
       "    </tr>\n",
       "    <tr>\n",
       "      <th>1</th>\n",
       "      <td>0.386464</td>\n",
       "      <td>0.0</td>\n",
       "      <td>0.500100</td>\n",
       "      <td>0.0</td>\n",
       "      <td>0.617594</td>\n",
       "      <td>0.0</td>\n",
       "      <td>${\\bf{x}}_{\\alpha \\,{\\bf{1}},1}$</td>\n",
       "      <td>Layer 2</td>\n",
       "      <td>1</td>\n",
       "      <td>1</td>\n",
       "      <td>l2_a</td>\n",
       "      <td>False</td>\n",
       "      <td>1</td>\n",
       "      <td>Default_series</td>\n",
       "    </tr>\n",
       "    <tr>\n",
       "      <th>2</th>\n",
       "      <td>0.341009</td>\n",
       "      <td>0.0</td>\n",
       "      <td>0.518282</td>\n",
       "      <td>0.0</td>\n",
       "      <td>0.590321</td>\n",
       "      <td>0.0</td>\n",
       "      <td>${\\bf{x}}_{\\alpha \\,{\\bf{1}},2}$</td>\n",
       "      <td>Layer 2</td>\n",
       "      <td>1</td>\n",
       "      <td>1</td>\n",
       "      <td>l2_a</td>\n",
       "      <td>False</td>\n",
       "      <td>1</td>\n",
       "      <td>Default_series</td>\n",
       "    </tr>\n",
       "    <tr>\n",
       "      <th>3</th>\n",
       "      <td>0.750100</td>\n",
       "      <td>0.0</td>\n",
       "      <td>0.481918</td>\n",
       "      <td>0.0</td>\n",
       "      <td>0.564517</td>\n",
       "      <td>0.0</td>\n",
       "      <td>${\\bf{x}}_{\\alpha \\,{\\bf{1}},3}$</td>\n",
       "      <td>Layer 2</td>\n",
       "      <td>1</td>\n",
       "      <td>1</td>\n",
       "      <td>l2_b</td>\n",
       "      <td>False</td>\n",
       "      <td>1</td>\n",
       "      <td>Default_series</td>\n",
       "    </tr>\n",
       "    <tr>\n",
       "      <th>4</th>\n",
       "      <td>0.659191</td>\n",
       "      <td>0.0</td>\n",
       "      <td>0.500100</td>\n",
       "      <td>0.0</td>\n",
       "      <td>0.619607</td>\n",
       "      <td>0.0</td>\n",
       "      <td>${\\bf{x}}_{\\alpha \\,{\\bf{1}},4}$</td>\n",
       "      <td>Layer 2</td>\n",
       "      <td>1</td>\n",
       "      <td>1</td>\n",
       "      <td>l2_b</td>\n",
       "      <td>False</td>\n",
       "      <td>1</td>\n",
       "      <td>Default_series</td>\n",
       "    </tr>\n",
       "    <tr>\n",
       "      <th>5</th>\n",
       "      <td>0.704645</td>\n",
       "      <td>0.0</td>\n",
       "      <td>0.518282</td>\n",
       "      <td>0.0</td>\n",
       "      <td>0.592517</td>\n",
       "      <td>0.0</td>\n",
       "      <td>${\\bf{x}}_{\\alpha \\,{\\bf{1}},5}$</td>\n",
       "      <td>Layer 2</td>\n",
       "      <td>1</td>\n",
       "      <td>1</td>\n",
       "      <td>l2_b</td>\n",
       "      <td>False</td>\n",
       "      <td>1</td>\n",
       "      <td>Default_series</td>\n",
       "    </tr>\n",
       "    <tr>\n",
       "      <th>6</th>\n",
       "      <td>0.659191</td>\n",
       "      <td>0.0</td>\n",
       "      <td>0.500100</td>\n",
       "      <td>0.0</td>\n",
       "      <td>0.589470</td>\n",
       "      <td>0.0</td>\n",
       "      <td>${\\bf{x}}_{\\alpha \\,{\\bf{2}},0}$</td>\n",
       "      <td>Layer 3</td>\n",
       "      <td>2</td>\n",
       "      <td>2</td>\n",
       "      <td>l3_b</td>\n",
       "      <td>False</td>\n",
       "      <td>1</td>\n",
       "      <td>Default_series</td>\n",
       "    </tr>\n",
       "    <tr>\n",
       "      <th>7</th>\n",
       "      <td>0.386464</td>\n",
       "      <td>0.0</td>\n",
       "      <td>0.500100</td>\n",
       "      <td>0.0</td>\n",
       "      <td>0.580409</td>\n",
       "      <td>0.0</td>\n",
       "      <td>${\\bf{x}}_{\\alpha \\,{\\bf{2}},1}$</td>\n",
       "      <td>Layer 3</td>\n",
       "      <td>2</td>\n",
       "      <td>2</td>\n",
       "      <td>l3_a</td>\n",
       "      <td>False</td>\n",
       "      <td>1</td>\n",
       "      <td>Default_series</td>\n",
       "    </tr>\n",
       "    <tr>\n",
       "      <th>8</th>\n",
       "      <td>0.341009</td>\n",
       "      <td>0.0</td>\n",
       "      <td>0.518282</td>\n",
       "      <td>0.0</td>\n",
       "      <td>0.553137</td>\n",
       "      <td>0.0</td>\n",
       "      <td>${\\bf{x}}_{\\alpha \\,{\\bf{2}},2}$</td>\n",
       "      <td>Layer 3</td>\n",
       "      <td>2</td>\n",
       "      <td>2</td>\n",
       "      <td>l3_a</td>\n",
       "      <td>False</td>\n",
       "      <td>1</td>\n",
       "      <td>Default_series</td>\n",
       "    </tr>\n",
       "    <tr>\n",
       "      <th>9</th>\n",
       "      <td>0.750100</td>\n",
       "      <td>0.0</td>\n",
       "      <td>0.481918</td>\n",
       "      <td>0.0</td>\n",
       "      <td>0.534379</td>\n",
       "      <td>0.0</td>\n",
       "      <td>${\\bf{x}}_{\\alpha \\,{\\bf{2}},3}$</td>\n",
       "      <td>Layer 3</td>\n",
       "      <td>2</td>\n",
       "      <td>2</td>\n",
       "      <td>l3_b</td>\n",
       "      <td>False</td>\n",
       "      <td>1</td>\n",
       "      <td>Default_series</td>\n",
       "    </tr>\n",
       "    <tr>\n",
       "      <th>10</th>\n",
       "      <td>0.295555</td>\n",
       "      <td>0.0</td>\n",
       "      <td>0.481918</td>\n",
       "      <td>0.0</td>\n",
       "      <td>0.525318</td>\n",
       "      <td>0.0</td>\n",
       "      <td>${\\bf{x}}_{\\alpha \\,{\\bf{2}},4}$</td>\n",
       "      <td>Layer 3</td>\n",
       "      <td>2</td>\n",
       "      <td>2</td>\n",
       "      <td>l3_a</td>\n",
       "      <td>False</td>\n",
       "      <td>1</td>\n",
       "      <td>Default_series</td>\n",
       "    </tr>\n",
       "    <tr>\n",
       "      <th>11</th>\n",
       "      <td>0.704645</td>\n",
       "      <td>0.0</td>\n",
       "      <td>0.518282</td>\n",
       "      <td>0.0</td>\n",
       "      <td>0.562379</td>\n",
       "      <td>0.0</td>\n",
       "      <td>${\\bf{x}}_{\\alpha \\,{\\bf{2}},5}$</td>\n",
       "      <td>Layer 3</td>\n",
       "      <td>2</td>\n",
       "      <td>2</td>\n",
       "      <td>l3_b</td>\n",
       "      <td>False</td>\n",
       "      <td>1</td>\n",
       "      <td>Default_series</td>\n",
       "    </tr>\n",
       "    <tr>\n",
       "      <th>12</th>\n",
       "      <td>0.386464</td>\n",
       "      <td>0.0</td>\n",
       "      <td>0.500100</td>\n",
       "      <td>0.0</td>\n",
       "      <td>0.544849</td>\n",
       "      <td>0.0</td>\n",
       "      <td>${\\bf{x}}_{\\alpha \\,{\\bf{3}},0}$</td>\n",
       "      <td>Layer 4</td>\n",
       "      <td>3</td>\n",
       "      <td>3</td>\n",
       "      <td>l4_a</td>\n",
       "      <td>False</td>\n",
       "      <td>1</td>\n",
       "      <td>Default_series</td>\n",
       "    </tr>\n",
       "    <tr>\n",
       "      <th>13</th>\n",
       "      <td>0.341009</td>\n",
       "      <td>0.0</td>\n",
       "      <td>0.518282</td>\n",
       "      <td>0.0</td>\n",
       "      <td>0.517576</td>\n",
       "      <td>0.0</td>\n",
       "      <td>${\\bf{x}}_{\\alpha \\,{\\bf{3}},1}$</td>\n",
       "      <td>Layer 4</td>\n",
       "      <td>3</td>\n",
       "      <td>3</td>\n",
       "      <td>l4_a</td>\n",
       "      <td>False</td>\n",
       "      <td>1</td>\n",
       "      <td>Default_series</td>\n",
       "    </tr>\n",
       "    <tr>\n",
       "      <th>14</th>\n",
       "      <td>0.659191</td>\n",
       "      <td>0.0</td>\n",
       "      <td>0.500100</td>\n",
       "      <td>0.0</td>\n",
       "      <td>0.546518</td>\n",
       "      <td>0.0</td>\n",
       "      <td>${\\bf{x}}_{\\alpha \\,{\\bf{3}},2}$</td>\n",
       "      <td>Layer 4</td>\n",
       "      <td>3</td>\n",
       "      <td>3</td>\n",
       "      <td>l4_b</td>\n",
       "      <td>False</td>\n",
       "      <td>1</td>\n",
       "      <td>Default_series</td>\n",
       "    </tr>\n",
       "    <tr>\n",
       "      <th>15</th>\n",
       "      <td>0.704645</td>\n",
       "      <td>0.0</td>\n",
       "      <td>0.518282</td>\n",
       "      <td>0.0</td>\n",
       "      <td>0.519427</td>\n",
       "      <td>0.0</td>\n",
       "      <td>${\\bf{x}}_{\\alpha \\,{\\bf{3}},3}$</td>\n",
       "      <td>Layer 4</td>\n",
       "      <td>3</td>\n",
       "      <td>3</td>\n",
       "      <td>l4_b</td>\n",
       "      <td>False</td>\n",
       "      <td>1</td>\n",
       "      <td>Default_series</td>\n",
       "    </tr>\n",
       "    <tr>\n",
       "      <th>16</th>\n",
       "      <td>0.295555</td>\n",
       "      <td>0.0</td>\n",
       "      <td>0.481918</td>\n",
       "      <td>0.0</td>\n",
       "      <td>0.489758</td>\n",
       "      <td>0.0</td>\n",
       "      <td>${\\bf{x}}_{\\alpha \\,{\\bf{3}},4}$</td>\n",
       "      <td>Layer 4</td>\n",
       "      <td>3</td>\n",
       "      <td>3</td>\n",
       "      <td>l4_a</td>\n",
       "      <td>False</td>\n",
       "      <td>1</td>\n",
       "      <td>Default_series</td>\n",
       "    </tr>\n",
       "    <tr>\n",
       "      <th>17</th>\n",
       "      <td>0.750100</td>\n",
       "      <td>0.0</td>\n",
       "      <td>0.481918</td>\n",
       "      <td>0.0</td>\n",
       "      <td>0.491427</td>\n",
       "      <td>0.0</td>\n",
       "      <td>${\\bf{x}}_{\\alpha \\,{\\bf{3}},5}$</td>\n",
       "      <td>Layer 4</td>\n",
       "      <td>3</td>\n",
       "      <td>3</td>\n",
       "      <td>l4_b</td>\n",
       "      <td>False</td>\n",
       "      <td>1</td>\n",
       "      <td>Default_series</td>\n",
       "    </tr>\n",
       "    <tr>\n",
       "      <th>18</th>\n",
       "      <td>0.750100</td>\n",
       "      <td>0.0</td>\n",
       "      <td>0.481918</td>\n",
       "      <td>0.0</td>\n",
       "      <td>0.454817</td>\n",
       "      <td>0.0</td>\n",
       "      <td>${\\bf{x}}_{\\alpha \\,{\\bf{4}},0}$</td>\n",
       "      <td>Layer 5</td>\n",
       "      <td>4</td>\n",
       "      <td>4</td>\n",
       "      <td>l5_b</td>\n",
       "      <td>False</td>\n",
       "      <td>1</td>\n",
       "      <td>Default_series</td>\n",
       "    </tr>\n",
       "    <tr>\n",
       "      <th>19</th>\n",
       "      <td>0.704645</td>\n",
       "      <td>0.0</td>\n",
       "      <td>0.518282</td>\n",
       "      <td>0.0</td>\n",
       "      <td>0.482817</td>\n",
       "      <td>0.0</td>\n",
       "      <td>${\\bf{x}}_{\\alpha \\,{\\bf{4}},1}$</td>\n",
       "      <td>Layer 5</td>\n",
       "      <td>4</td>\n",
       "      <td>4</td>\n",
       "      <td>l5_b</td>\n",
       "      <td>False</td>\n",
       "      <td>1</td>\n",
       "      <td>Default_series</td>\n",
       "    </tr>\n",
       "    <tr>\n",
       "      <th>20</th>\n",
       "      <td>0.659191</td>\n",
       "      <td>0.0</td>\n",
       "      <td>0.500100</td>\n",
       "      <td>0.0</td>\n",
       "      <td>0.509908</td>\n",
       "      <td>0.0</td>\n",
       "      <td>${\\bf{x}}_{\\alpha \\,{\\bf{4}},2}$</td>\n",
       "      <td>Layer 5</td>\n",
       "      <td>4</td>\n",
       "      <td>4</td>\n",
       "      <td>l5_b</td>\n",
       "      <td>False</td>\n",
       "      <td>1</td>\n",
       "      <td>Default_series</td>\n",
       "    </tr>\n",
       "    <tr>\n",
       "      <th>21</th>\n",
       "      <td>0.295555</td>\n",
       "      <td>0.0</td>\n",
       "      <td>0.481918</td>\n",
       "      <td>0.0</td>\n",
       "      <td>0.457449</td>\n",
       "      <td>0.0</td>\n",
       "      <td>${\\bf{x}}_{\\alpha \\,{\\bf{4}},3}$</td>\n",
       "      <td>Layer 5</td>\n",
       "      <td>4</td>\n",
       "      <td>4</td>\n",
       "      <td>l5_a</td>\n",
       "      <td>False</td>\n",
       "      <td>1</td>\n",
       "      <td>Default_series</td>\n",
       "    </tr>\n",
       "    <tr>\n",
       "      <th>22</th>\n",
       "      <td>0.341009</td>\n",
       "      <td>0.0</td>\n",
       "      <td>0.518282</td>\n",
       "      <td>0.0</td>\n",
       "      <td>0.485267</td>\n",
       "      <td>0.0</td>\n",
       "      <td>${\\bf{x}}_{\\alpha \\,{\\bf{4}},4}$</td>\n",
       "      <td>Layer 5</td>\n",
       "      <td>4</td>\n",
       "      <td>4</td>\n",
       "      <td>l5_a</td>\n",
       "      <td>False</td>\n",
       "      <td>1</td>\n",
       "      <td>Default_series</td>\n",
       "    </tr>\n",
       "    <tr>\n",
       "      <th>23</th>\n",
       "      <td>0.386464</td>\n",
       "      <td>0.0</td>\n",
       "      <td>0.500100</td>\n",
       "      <td>0.0</td>\n",
       "      <td>0.512540</td>\n",
       "      <td>0.0</td>\n",
       "      <td>${\\bf{x}}_{\\alpha \\,{\\bf{4}},5}$</td>\n",
       "      <td>Layer 5</td>\n",
       "      <td>4</td>\n",
       "      <td>4</td>\n",
       "      <td>l5_a</td>\n",
       "      <td>False</td>\n",
       "      <td>1</td>\n",
       "      <td>Default_series</td>\n",
       "    </tr>\n",
       "  </tbody>\n",
       "</table>\n",
       "</div>"
      ],
      "text/plain": [
       "           X  X_std         Y  Y_std         Z  Z_std  \\\n",
       "0   0.295555    0.0  0.481918    0.0  0.562503    0.0   \n",
       "1   0.386464    0.0  0.500100    0.0  0.617594    0.0   \n",
       "2   0.341009    0.0  0.518282    0.0  0.590321    0.0   \n",
       "3   0.750100    0.0  0.481918    0.0  0.564517    0.0   \n",
       "4   0.659191    0.0  0.500100    0.0  0.619607    0.0   \n",
       "5   0.704645    0.0  0.518282    0.0  0.592517    0.0   \n",
       "6   0.659191    0.0  0.500100    0.0  0.589470    0.0   \n",
       "7   0.386464    0.0  0.500100    0.0  0.580409    0.0   \n",
       "8   0.341009    0.0  0.518282    0.0  0.553137    0.0   \n",
       "9   0.750100    0.0  0.481918    0.0  0.534379    0.0   \n",
       "10  0.295555    0.0  0.481918    0.0  0.525318    0.0   \n",
       "11  0.704645    0.0  0.518282    0.0  0.562379    0.0   \n",
       "12  0.386464    0.0  0.500100    0.0  0.544849    0.0   \n",
       "13  0.341009    0.0  0.518282    0.0  0.517576    0.0   \n",
       "14  0.659191    0.0  0.500100    0.0  0.546518    0.0   \n",
       "15  0.704645    0.0  0.518282    0.0  0.519427    0.0   \n",
       "16  0.295555    0.0  0.481918    0.0  0.489758    0.0   \n",
       "17  0.750100    0.0  0.481918    0.0  0.491427    0.0   \n",
       "18  0.750100    0.0  0.481918    0.0  0.454817    0.0   \n",
       "19  0.704645    0.0  0.518282    0.0  0.482817    0.0   \n",
       "20  0.659191    0.0  0.500100    0.0  0.509908    0.0   \n",
       "21  0.295555    0.0  0.481918    0.0  0.457449    0.0   \n",
       "22  0.341009    0.0  0.518282    0.0  0.485267    0.0   \n",
       "23  0.386464    0.0  0.500100    0.0  0.512540    0.0   \n",
       "\n",
       "                         annotations formation  formation_number  \\\n",
       "0   ${\\bf{x}}_{\\alpha \\,{\\bf{1}},0}$   Layer 2                 1   \n",
       "1   ${\\bf{x}}_{\\alpha \\,{\\bf{1}},1}$   Layer 2                 1   \n",
       "2   ${\\bf{x}}_{\\alpha \\,{\\bf{1}},2}$   Layer 2                 1   \n",
       "3   ${\\bf{x}}_{\\alpha \\,{\\bf{1}},3}$   Layer 2                 1   \n",
       "4   ${\\bf{x}}_{\\alpha \\,{\\bf{1}},4}$   Layer 2                 1   \n",
       "5   ${\\bf{x}}_{\\alpha \\,{\\bf{1}},5}$   Layer 2                 1   \n",
       "6   ${\\bf{x}}_{\\alpha \\,{\\bf{2}},0}$   Layer 3                 2   \n",
       "7   ${\\bf{x}}_{\\alpha \\,{\\bf{2}},1}$   Layer 3                 2   \n",
       "8   ${\\bf{x}}_{\\alpha \\,{\\bf{2}},2}$   Layer 3                 2   \n",
       "9   ${\\bf{x}}_{\\alpha \\,{\\bf{2}},3}$   Layer 3                 2   \n",
       "10  ${\\bf{x}}_{\\alpha \\,{\\bf{2}},4}$   Layer 3                 2   \n",
       "11  ${\\bf{x}}_{\\alpha \\,{\\bf{2}},5}$   Layer 3                 2   \n",
       "12  ${\\bf{x}}_{\\alpha \\,{\\bf{3}},0}$   Layer 4                 3   \n",
       "13  ${\\bf{x}}_{\\alpha \\,{\\bf{3}},1}$   Layer 4                 3   \n",
       "14  ${\\bf{x}}_{\\alpha \\,{\\bf{3}},2}$   Layer 4                 3   \n",
       "15  ${\\bf{x}}_{\\alpha \\,{\\bf{3}},3}$   Layer 4                 3   \n",
       "16  ${\\bf{x}}_{\\alpha \\,{\\bf{3}},4}$   Layer 4                 3   \n",
       "17  ${\\bf{x}}_{\\alpha \\,{\\bf{3}},5}$   Layer 4                 3   \n",
       "18  ${\\bf{x}}_{\\alpha \\,{\\bf{4}},0}$   Layer 5                 4   \n",
       "19  ${\\bf{x}}_{\\alpha \\,{\\bf{4}},1}$   Layer 5                 4   \n",
       "20  ${\\bf{x}}_{\\alpha \\,{\\bf{4}},2}$   Layer 5                 4   \n",
       "21  ${\\bf{x}}_{\\alpha \\,{\\bf{4}},3}$   Layer 5                 4   \n",
       "22  ${\\bf{x}}_{\\alpha \\,{\\bf{4}},4}$   Layer 5                 4   \n",
       "23  ${\\bf{x}}_{\\alpha \\,{\\bf{4}},5}$   Layer 5                 4   \n",
       "\n",
       "    formation_value group_id  isFault  order_series          series  \n",
       "0                 1     l2_a    False             1  Default_series  \n",
       "1                 1     l2_a    False             1  Default_series  \n",
       "2                 1     l2_a    False             1  Default_series  \n",
       "3                 1     l2_b    False             1  Default_series  \n",
       "4                 1     l2_b    False             1  Default_series  \n",
       "5                 1     l2_b    False             1  Default_series  \n",
       "6                 2     l3_b    False             1  Default_series  \n",
       "7                 2     l3_a    False             1  Default_series  \n",
       "8                 2     l3_a    False             1  Default_series  \n",
       "9                 2     l3_b    False             1  Default_series  \n",
       "10                2     l3_a    False             1  Default_series  \n",
       "11                2     l3_b    False             1  Default_series  \n",
       "12                3     l4_a    False             1  Default_series  \n",
       "13                3     l4_a    False             1  Default_series  \n",
       "14                3     l4_b    False             1  Default_series  \n",
       "15                3     l4_b    False             1  Default_series  \n",
       "16                3     l4_a    False             1  Default_series  \n",
       "17                3     l4_b    False             1  Default_series  \n",
       "18                4     l5_b    False             1  Default_series  \n",
       "19                4     l5_b    False             1  Default_series  \n",
       "20                4     l5_b    False             1  Default_series  \n",
       "21                4     l5_a    False             1  Default_series  \n",
       "22                4     l5_a    False             1  Default_series  \n",
       "23                4     l5_a    False             1  Default_series  "
      ]
     },
     "execution_count": 38,
     "metadata": {},
     "output_type": "execute_result"
    }
   ],
   "source": [
    "interp_data.geo_data_res.interfaces"
   ]
  },
  {
   "cell_type": "markdown",
   "metadata": {},
   "source": [
    "or the 34th:"
   ]
  },
  {
   "cell_type": "code",
   "execution_count": 39,
   "metadata": {},
   "outputs": [
    {
     "data": {
      "image/png": "[encoded data removed]",
      "text/plain": [
       "<Figure size 540x360 with 1 Axes>"
      ]
     },
     "metadata": {},
     "output_type": "display_data"
    }
   ],
   "source": [
    "post.change_input_data(interp_data, 15)\n",
    "lith_block, fault_block = gp.compute_model(interp_data)\n",
    "gp.plotting.plot_section(interp_data.geo_data_res, lith_block[0], 2, plot_data=True)"
   ]
  },
  {
   "cell_type": "code",
   "execution_count": 40,
   "metadata": {},
   "outputs": [
    {
     "data": {
      "text/html": [
       "<div>\n",
       "<style scoped>\n",
       "    .dataframe tbody tr th:only-of-type {\n",
       "        vertical-align: middle;\n",
       "    }\n",
       "\n",
       "    .dataframe tbody tr th {\n",
       "        vertical-align: top;\n",
       "    }\n",
       "\n",
       "    .dataframe thead th {\n",
       "        text-align: right;\n",
       "    }\n",
       "</style>\n",
       "<table border=\"1\" class=\"dataframe\">\n",
       "  <thead>\n",
       "    <tr style=\"text-align: right;\">\n",
       "      <th></th>\n",
       "      <th>X</th>\n",
       "      <th>X_std</th>\n",
       "      <th>Y</th>\n",
       "      <th>Y_std</th>\n",
       "      <th>Z</th>\n",
       "      <th>Z_std</th>\n",
       "      <th>annotations</th>\n",
       "      <th>formation</th>\n",
       "      <th>formation_number</th>\n",
       "      <th>formation_value</th>\n",
       "      <th>group_id</th>\n",
       "      <th>isFault</th>\n",
       "      <th>order_series</th>\n",
       "      <th>series</th>\n",
       "    </tr>\n",
       "  </thead>\n",
       "  <tbody>\n",
       "    <tr>\n",
       "      <th>0</th>\n",
       "      <td>0.295555</td>\n",
       "      <td>0.0</td>\n",
       "      <td>0.481918</td>\n",
       "      <td>0.0</td>\n",
       "      <td>0.565229</td>\n",
       "      <td>0.0</td>\n",
       "      <td>${\\bf{x}}_{\\alpha \\,{\\bf{1}},0}$</td>\n",
       "      <td>Layer 2</td>\n",
       "      <td>1</td>\n",
       "      <td>1</td>\n",
       "      <td>l2_a</td>\n",
       "      <td>False</td>\n",
       "      <td>1</td>\n",
       "      <td>Default_series</td>\n",
       "    </tr>\n",
       "    <tr>\n",
       "      <th>1</th>\n",
       "      <td>0.386464</td>\n",
       "      <td>0.0</td>\n",
       "      <td>0.500100</td>\n",
       "      <td>0.0</td>\n",
       "      <td>0.620319</td>\n",
       "      <td>0.0</td>\n",
       "      <td>${\\bf{x}}_{\\alpha \\,{\\bf{1}},1}$</td>\n",
       "      <td>Layer 2</td>\n",
       "      <td>1</td>\n",
       "      <td>1</td>\n",
       "      <td>l2_a</td>\n",
       "      <td>False</td>\n",
       "      <td>1</td>\n",
       "      <td>Default_series</td>\n",
       "    </tr>\n",
       "    <tr>\n",
       "      <th>2</th>\n",
       "      <td>0.341009</td>\n",
       "      <td>0.0</td>\n",
       "      <td>0.518282</td>\n",
       "      <td>0.0</td>\n",
       "      <td>0.593047</td>\n",
       "      <td>0.0</td>\n",
       "      <td>${\\bf{x}}_{\\alpha \\,{\\bf{1}},2}$</td>\n",
       "      <td>Layer 2</td>\n",
       "      <td>1</td>\n",
       "      <td>1</td>\n",
       "      <td>l2_a</td>\n",
       "      <td>False</td>\n",
       "      <td>1</td>\n",
       "      <td>Default_series</td>\n",
       "    </tr>\n",
       "    <tr>\n",
       "      <th>3</th>\n",
       "      <td>0.750100</td>\n",
       "      <td>0.0</td>\n",
       "      <td>0.481918</td>\n",
       "      <td>0.0</td>\n",
       "      <td>0.563315</td>\n",
       "      <td>0.0</td>\n",
       "      <td>${\\bf{x}}_{\\alpha \\,{\\bf{1}},3}$</td>\n",
       "      <td>Layer 2</td>\n",
       "      <td>1</td>\n",
       "      <td>1</td>\n",
       "      <td>l2_b</td>\n",
       "      <td>False</td>\n",
       "      <td>1</td>\n",
       "      <td>Default_series</td>\n",
       "    </tr>\n",
       "    <tr>\n",
       "      <th>4</th>\n",
       "      <td>0.659191</td>\n",
       "      <td>0.0</td>\n",
       "      <td>0.500100</td>\n",
       "      <td>0.0</td>\n",
       "      <td>0.618406</td>\n",
       "      <td>0.0</td>\n",
       "      <td>${\\bf{x}}_{\\alpha \\,{\\bf{1}},4}$</td>\n",
       "      <td>Layer 2</td>\n",
       "      <td>1</td>\n",
       "      <td>1</td>\n",
       "      <td>l2_b</td>\n",
       "      <td>False</td>\n",
       "      <td>1</td>\n",
       "      <td>Default_series</td>\n",
       "    </tr>\n",
       "    <tr>\n",
       "      <th>5</th>\n",
       "      <td>0.704645</td>\n",
       "      <td>0.0</td>\n",
       "      <td>0.518282</td>\n",
       "      <td>0.0</td>\n",
       "      <td>0.591315</td>\n",
       "      <td>0.0</td>\n",
       "      <td>${\\bf{x}}_{\\alpha \\,{\\bf{1}},5}$</td>\n",
       "      <td>Layer 2</td>\n",
       "      <td>1</td>\n",
       "      <td>1</td>\n",
       "      <td>l2_b</td>\n",
       "      <td>False</td>\n",
       "      <td>1</td>\n",
       "      <td>Default_series</td>\n",
       "    </tr>\n",
       "    <tr>\n",
       "      <th>6</th>\n",
       "      <td>0.659191</td>\n",
       "      <td>0.0</td>\n",
       "      <td>0.500100</td>\n",
       "      <td>0.0</td>\n",
       "      <td>0.582939</td>\n",
       "      <td>0.0</td>\n",
       "      <td>${\\bf{x}}_{\\alpha \\,{\\bf{2}},0}$</td>\n",
       "      <td>Layer 3</td>\n",
       "      <td>2</td>\n",
       "      <td>2</td>\n",
       "      <td>l3_b</td>\n",
       "      <td>False</td>\n",
       "      <td>1</td>\n",
       "      <td>Default_series</td>\n",
       "    </tr>\n",
       "    <tr>\n",
       "      <th>7</th>\n",
       "      <td>0.386464</td>\n",
       "      <td>0.0</td>\n",
       "      <td>0.500100</td>\n",
       "      <td>0.0</td>\n",
       "      <td>0.582945</td>\n",
       "      <td>0.0</td>\n",
       "      <td>${\\bf{x}}_{\\alpha \\,{\\bf{2}},1}$</td>\n",
       "      <td>Layer 3</td>\n",
       "      <td>2</td>\n",
       "      <td>2</td>\n",
       "      <td>l3_a</td>\n",
       "      <td>False</td>\n",
       "      <td>1</td>\n",
       "      <td>Default_series</td>\n",
       "    </tr>\n",
       "    <tr>\n",
       "      <th>8</th>\n",
       "      <td>0.341009</td>\n",
       "      <td>0.0</td>\n",
       "      <td>0.518282</td>\n",
       "      <td>0.0</td>\n",
       "      <td>0.555672</td>\n",
       "      <td>0.0</td>\n",
       "      <td>${\\bf{x}}_{\\alpha \\,{\\bf{2}},2}$</td>\n",
       "      <td>Layer 3</td>\n",
       "      <td>2</td>\n",
       "      <td>2</td>\n",
       "      <td>l3_a</td>\n",
       "      <td>False</td>\n",
       "      <td>1</td>\n",
       "      <td>Default_series</td>\n",
       "    </tr>\n",
       "    <tr>\n",
       "      <th>9</th>\n",
       "      <td>0.750100</td>\n",
       "      <td>0.0</td>\n",
       "      <td>0.481918</td>\n",
       "      <td>0.0</td>\n",
       "      <td>0.527848</td>\n",
       "      <td>0.0</td>\n",
       "      <td>${\\bf{x}}_{\\alpha \\,{\\bf{2}},3}$</td>\n",
       "      <td>Layer 3</td>\n",
       "      <td>2</td>\n",
       "      <td>2</td>\n",
       "      <td>l3_b</td>\n",
       "      <td>False</td>\n",
       "      <td>1</td>\n",
       "      <td>Default_series</td>\n",
       "    </tr>\n",
       "    <tr>\n",
       "      <th>10</th>\n",
       "      <td>0.295555</td>\n",
       "      <td>0.0</td>\n",
       "      <td>0.481918</td>\n",
       "      <td>0.0</td>\n",
       "      <td>0.527854</td>\n",
       "      <td>0.0</td>\n",
       "      <td>${\\bf{x}}_{\\alpha \\,{\\bf{2}},4}$</td>\n",
       "      <td>Layer 3</td>\n",
       "      <td>2</td>\n",
       "      <td>2</td>\n",
       "      <td>l3_a</td>\n",
       "      <td>False</td>\n",
       "      <td>1</td>\n",
       "      <td>Default_series</td>\n",
       "    </tr>\n",
       "    <tr>\n",
       "      <th>11</th>\n",
       "      <td>0.704645</td>\n",
       "      <td>0.0</td>\n",
       "      <td>0.518282</td>\n",
       "      <td>0.0</td>\n",
       "      <td>0.555848</td>\n",
       "      <td>0.0</td>\n",
       "      <td>${\\bf{x}}_{\\alpha \\,{\\bf{2}},5}$</td>\n",
       "      <td>Layer 3</td>\n",
       "      <td>2</td>\n",
       "      <td>2</td>\n",
       "      <td>l3_b</td>\n",
       "      <td>False</td>\n",
       "      <td>1</td>\n",
       "      <td>Default_series</td>\n",
       "    </tr>\n",
       "    <tr>\n",
       "      <th>12</th>\n",
       "      <td>0.386464</td>\n",
       "      <td>0.0</td>\n",
       "      <td>0.500100</td>\n",
       "      <td>0.0</td>\n",
       "      <td>0.545998</td>\n",
       "      <td>0.0</td>\n",
       "      <td>${\\bf{x}}_{\\alpha \\,{\\bf{3}},0}$</td>\n",
       "      <td>Layer 4</td>\n",
       "      <td>3</td>\n",
       "      <td>3</td>\n",
       "      <td>l4_a</td>\n",
       "      <td>False</td>\n",
       "      <td>1</td>\n",
       "      <td>Default_series</td>\n",
       "    </tr>\n",
       "    <tr>\n",
       "      <th>13</th>\n",
       "      <td>0.341009</td>\n",
       "      <td>0.0</td>\n",
       "      <td>0.518282</td>\n",
       "      <td>0.0</td>\n",
       "      <td>0.518725</td>\n",
       "      <td>0.0</td>\n",
       "      <td>${\\bf{x}}_{\\alpha \\,{\\bf{3}},1}$</td>\n",
       "      <td>Layer 4</td>\n",
       "      <td>3</td>\n",
       "      <td>3</td>\n",
       "      <td>l4_a</td>\n",
       "      <td>False</td>\n",
       "      <td>1</td>\n",
       "      <td>Default_series</td>\n",
       "    </tr>\n",
       "    <tr>\n",
       "      <th>14</th>\n",
       "      <td>0.659191</td>\n",
       "      <td>0.0</td>\n",
       "      <td>0.500100</td>\n",
       "      <td>0.0</td>\n",
       "      <td>0.539343</td>\n",
       "      <td>0.0</td>\n",
       "      <td>${\\bf{x}}_{\\alpha \\,{\\bf{3}},2}$</td>\n",
       "      <td>Layer 4</td>\n",
       "      <td>3</td>\n",
       "      <td>3</td>\n",
       "      <td>l4_b</td>\n",
       "      <td>False</td>\n",
       "      <td>1</td>\n",
       "      <td>Default_series</td>\n",
       "    </tr>\n",
       "    <tr>\n",
       "      <th>15</th>\n",
       "      <td>0.704645</td>\n",
       "      <td>0.0</td>\n",
       "      <td>0.518282</td>\n",
       "      <td>0.0</td>\n",
       "      <td>0.512252</td>\n",
       "      <td>0.0</td>\n",
       "      <td>${\\bf{x}}_{\\alpha \\,{\\bf{3}},3}$</td>\n",
       "      <td>Layer 4</td>\n",
       "      <td>3</td>\n",
       "      <td>3</td>\n",
       "      <td>l4_b</td>\n",
       "      <td>False</td>\n",
       "      <td>1</td>\n",
       "      <td>Default_series</td>\n",
       "    </tr>\n",
       "    <tr>\n",
       "      <th>16</th>\n",
       "      <td>0.295555</td>\n",
       "      <td>0.0</td>\n",
       "      <td>0.481918</td>\n",
       "      <td>0.0</td>\n",
       "      <td>0.490907</td>\n",
       "      <td>0.0</td>\n",
       "      <td>${\\bf{x}}_{\\alpha \\,{\\bf{3}},4}$</td>\n",
       "      <td>Layer 4</td>\n",
       "      <td>3</td>\n",
       "      <td>3</td>\n",
       "      <td>l4_a</td>\n",
       "      <td>False</td>\n",
       "      <td>1</td>\n",
       "      <td>Default_series</td>\n",
       "    </tr>\n",
       "    <tr>\n",
       "      <th>17</th>\n",
       "      <td>0.750100</td>\n",
       "      <td>0.0</td>\n",
       "      <td>0.481918</td>\n",
       "      <td>0.0</td>\n",
       "      <td>0.484252</td>\n",
       "      <td>0.0</td>\n",
       "      <td>${\\bf{x}}_{\\alpha \\,{\\bf{3}},5}$</td>\n",
       "      <td>Layer 4</td>\n",
       "      <td>3</td>\n",
       "      <td>3</td>\n",
       "      <td>l4_b</td>\n",
       "      <td>False</td>\n",
       "      <td>1</td>\n",
       "      <td>Default_series</td>\n",
       "    </tr>\n",
       "    <tr>\n",
       "      <th>18</th>\n",
       "      <td>0.750100</td>\n",
       "      <td>0.0</td>\n",
       "      <td>0.481918</td>\n",
       "      <td>0.0</td>\n",
       "      <td>0.453256</td>\n",
       "      <td>0.0</td>\n",
       "      <td>${\\bf{x}}_{\\alpha \\,{\\bf{4}},0}$</td>\n",
       "      <td>Layer 5</td>\n",
       "      <td>4</td>\n",
       "      <td>4</td>\n",
       "      <td>l5_b</td>\n",
       "      <td>False</td>\n",
       "      <td>1</td>\n",
       "      <td>Default_series</td>\n",
       "    </tr>\n",
       "    <tr>\n",
       "      <th>19</th>\n",
       "      <td>0.704645</td>\n",
       "      <td>0.0</td>\n",
       "      <td>0.518282</td>\n",
       "      <td>0.0</td>\n",
       "      <td>0.481256</td>\n",
       "      <td>0.0</td>\n",
       "      <td>${\\bf{x}}_{\\alpha \\,{\\bf{4}},1}$</td>\n",
       "      <td>Layer 5</td>\n",
       "      <td>4</td>\n",
       "      <td>4</td>\n",
       "      <td>l5_b</td>\n",
       "      <td>False</td>\n",
       "      <td>1</td>\n",
       "      <td>Default_series</td>\n",
       "    </tr>\n",
       "    <tr>\n",
       "      <th>20</th>\n",
       "      <td>0.659191</td>\n",
       "      <td>0.0</td>\n",
       "      <td>0.500100</td>\n",
       "      <td>0.0</td>\n",
       "      <td>0.508347</td>\n",
       "      <td>0.0</td>\n",
       "      <td>${\\bf{x}}_{\\alpha \\,{\\bf{4}},2}$</td>\n",
       "      <td>Layer 5</td>\n",
       "      <td>4</td>\n",
       "      <td>4</td>\n",
       "      <td>l5_b</td>\n",
       "      <td>False</td>\n",
       "      <td>1</td>\n",
       "      <td>Default_series</td>\n",
       "    </tr>\n",
       "    <tr>\n",
       "      <th>21</th>\n",
       "      <td>0.295555</td>\n",
       "      <td>0.0</td>\n",
       "      <td>0.481918</td>\n",
       "      <td>0.0</td>\n",
       "      <td>0.455824</td>\n",
       "      <td>0.0</td>\n",
       "      <td>${\\bf{x}}_{\\alpha \\,{\\bf{4}},3}$</td>\n",
       "      <td>Layer 5</td>\n",
       "      <td>4</td>\n",
       "      <td>4</td>\n",
       "      <td>l5_a</td>\n",
       "      <td>False</td>\n",
       "      <td>1</td>\n",
       "      <td>Default_series</td>\n",
       "    </tr>\n",
       "    <tr>\n",
       "      <th>22</th>\n",
       "      <td>0.341009</td>\n",
       "      <td>0.0</td>\n",
       "      <td>0.518282</td>\n",
       "      <td>0.0</td>\n",
       "      <td>0.483643</td>\n",
       "      <td>0.0</td>\n",
       "      <td>${\\bf{x}}_{\\alpha \\,{\\bf{4}},4}$</td>\n",
       "      <td>Layer 5</td>\n",
       "      <td>4</td>\n",
       "      <td>4</td>\n",
       "      <td>l5_a</td>\n",
       "      <td>False</td>\n",
       "      <td>1</td>\n",
       "      <td>Default_series</td>\n",
       "    </tr>\n",
       "    <tr>\n",
       "      <th>23</th>\n",
       "      <td>0.386464</td>\n",
       "      <td>0.0</td>\n",
       "      <td>0.500100</td>\n",
       "      <td>0.0</td>\n",
       "      <td>0.510915</td>\n",
       "      <td>0.0</td>\n",
       "      <td>${\\bf{x}}_{\\alpha \\,{\\bf{4}},5}$</td>\n",
       "      <td>Layer 5</td>\n",
       "      <td>4</td>\n",
       "      <td>4</td>\n",
       "      <td>l5_a</td>\n",
       "      <td>False</td>\n",
       "      <td>1</td>\n",
       "      <td>Default_series</td>\n",
       "    </tr>\n",
       "  </tbody>\n",
       "</table>\n",
       "</div>"
      ],
      "text/plain": [
       "           X  X_std         Y  Y_std         Z  Z_std  \\\n",
       "0   0.295555    0.0  0.481918    0.0  0.565229    0.0   \n",
       "1   0.386464    0.0  0.500100    0.0  0.620319    0.0   \n",
       "2   0.341009    0.0  0.518282    0.0  0.593047    0.0   \n",
       "3   0.750100    0.0  0.481918    0.0  0.563315    0.0   \n",
       "4   0.659191    0.0  0.500100    0.0  0.618406    0.0   \n",
       "5   0.704645    0.0  0.518282    0.0  0.591315    0.0   \n",
       "6   0.659191    0.0  0.500100    0.0  0.582939    0.0   \n",
       "7   0.386464    0.0  0.500100    0.0  0.582945    0.0   \n",
       "8   0.341009    0.0  0.518282    0.0  0.555672    0.0   \n",
       "9   0.750100    0.0  0.481918    0.0  0.527848    0.0   \n",
       "10  0.295555    0.0  0.481918    0.0  0.527854    0.0   \n",
       "11  0.704645    0.0  0.518282    0.0  0.555848    0.0   \n",
       "12  0.386464    0.0  0.500100    0.0  0.545998    0.0   \n",
       "13  0.341009    0.0  0.518282    0.0  0.518725    0.0   \n",
       "14  0.659191    0.0  0.500100    0.0  0.539343    0.0   \n",
       "15  0.704645    0.0  0.518282    0.0  0.512252    0.0   \n",
       "16  0.295555    0.0  0.481918    0.0  0.490907    0.0   \n",
       "17  0.750100    0.0  0.481918    0.0  0.484252    0.0   \n",
       "18  0.750100    0.0  0.481918    0.0  0.453256    0.0   \n",
       "19  0.704645    0.0  0.518282    0.0  0.481256    0.0   \n",
       "20  0.659191    0.0  0.500100    0.0  0.508347    0.0   \n",
       "21  0.295555    0.0  0.481918    0.0  0.455824    0.0   \n",
       "22  0.341009    0.0  0.518282    0.0  0.483643    0.0   \n",
       "23  0.386464    0.0  0.500100    0.0  0.510915    0.0   \n",
       "\n",
       "                         annotations formation  formation_number  \\\n",
       "0   ${\\bf{x}}_{\\alpha \\,{\\bf{1}},0}$   Layer 2                 1   \n",
       "1   ${\\bf{x}}_{\\alpha \\,{\\bf{1}},1}$   Layer 2                 1   \n",
       "2   ${\\bf{x}}_{\\alpha \\,{\\bf{1}},2}$   Layer 2                 1   \n",
       "3   ${\\bf{x}}_{\\alpha \\,{\\bf{1}},3}$   Layer 2                 1   \n",
       "4   ${\\bf{x}}_{\\alpha \\,{\\bf{1}},4}$   Layer 2                 1   \n",
       "5   ${\\bf{x}}_{\\alpha \\,{\\bf{1}},5}$   Layer 2                 1   \n",
       "6   ${\\bf{x}}_{\\alpha \\,{\\bf{2}},0}$   Layer 3                 2   \n",
       "7   ${\\bf{x}}_{\\alpha \\,{\\bf{2}},1}$   Layer 3                 2   \n",
       "8   ${\\bf{x}}_{\\alpha \\,{\\bf{2}},2}$   Layer 3                 2   \n",
       "9   ${\\bf{x}}_{\\alpha \\,{\\bf{2}},3}$   Layer 3                 2   \n",
       "10  ${\\bf{x}}_{\\alpha \\,{\\bf{2}},4}$   Layer 3                 2   \n",
       "11  ${\\bf{x}}_{\\alpha \\,{\\bf{2}},5}$   Layer 3                 2   \n",
       "12  ${\\bf{x}}_{\\alpha \\,{\\bf{3}},0}$   Layer 4                 3   \n",
       "13  ${\\bf{x}}_{\\alpha \\,{\\bf{3}},1}$   Layer 4                 3   \n",
       "14  ${\\bf{x}}_{\\alpha \\,{\\bf{3}},2}$   Layer 4                 3   \n",
       "15  ${\\bf{x}}_{\\alpha \\,{\\bf{3}},3}$   Layer 4                 3   \n",
       "16  ${\\bf{x}}_{\\alpha \\,{\\bf{3}},4}$   Layer 4                 3   \n",
       "17  ${\\bf{x}}_{\\alpha \\,{\\bf{3}},5}$   Layer 4                 3   \n",
       "18  ${\\bf{x}}_{\\alpha \\,{\\bf{4}},0}$   Layer 5                 4   \n",
       "19  ${\\bf{x}}_{\\alpha \\,{\\bf{4}},1}$   Layer 5                 4   \n",
       "20  ${\\bf{x}}_{\\alpha \\,{\\bf{4}},2}$   Layer 5                 4   \n",
       "21  ${\\bf{x}}_{\\alpha \\,{\\bf{4}},3}$   Layer 5                 4   \n",
       "22  ${\\bf{x}}_{\\alpha \\,{\\bf{4}},4}$   Layer 5                 4   \n",
       "23  ${\\bf{x}}_{\\alpha \\,{\\bf{4}},5}$   Layer 5                 4   \n",
       "\n",
       "    formation_value group_id  isFault  order_series          series  \n",
       "0                 1     l2_a    False             1  Default_series  \n",
       "1                 1     l2_a    False             1  Default_series  \n",
       "2                 1     l2_a    False             1  Default_series  \n",
       "3                 1     l2_b    False             1  Default_series  \n",
       "4                 1     l2_b    False             1  Default_series  \n",
       "5                 1     l2_b    False             1  Default_series  \n",
       "6                 2     l3_b    False             1  Default_series  \n",
       "7                 2     l3_a    False             1  Default_series  \n",
       "8                 2     l3_a    False             1  Default_series  \n",
       "9                 2     l3_b    False             1  Default_series  \n",
       "10                2     l3_a    False             1  Default_series  \n",
       "11                2     l3_b    False             1  Default_series  \n",
       "12                3     l4_a    False             1  Default_series  \n",
       "13                3     l4_a    False             1  Default_series  \n",
       "14                3     l4_b    False             1  Default_series  \n",
       "15                3     l4_b    False             1  Default_series  \n",
       "16                3     l4_a    False             1  Default_series  \n",
       "17                3     l4_b    False             1  Default_series  \n",
       "18                4     l5_b    False             1  Default_series  \n",
       "19                4     l5_b    False             1  Default_series  \n",
       "20                4     l5_b    False             1  Default_series  \n",
       "21                4     l5_a    False             1  Default_series  \n",
       "22                4     l5_a    False             1  Default_series  \n",
       "23                4     l5_a    False             1  Default_series  "
      ]
     },
     "execution_count": 40,
     "metadata": {},
     "output_type": "execute_result"
    }
   ],
   "source": [
    "interp_data.geo_data_res.interfaces"
   ]
  },
  {
   "cell_type": "markdown",
   "metadata": {},
   "source": [
    "or the 95th:"
   ]
  },
  {
   "cell_type": "code",
   "execution_count": 41,
   "metadata": {},
   "outputs": [
    {
     "data": {
      "image/png": "[encoded data removed]",
      "text/plain": [
       "<Figure size 748.8x514.8 with 1 Axes>"
      ]
     },
     "metadata": {},
     "output_type": "display_data"
    }
   ],
   "source": [
    "post.change_input_data(interp_data, 95)\n",
    "lith_block, fault_block = gp.compute_model(interp_data)\n",
    "gp.plotting.plot_section(geo_data, lith_block[0], 2)"
   ]
  },
  {
   "cell_type": "markdown",
   "metadata": {},
   "source": [
    "As you can see, we have successfully perturbated the vertical layer interface positions - although only like a 100 times. While some models represent reasonable, geologically meaningful systems, some may not. This is due to the stochastic selection of input parameters and an inherent problem of the approach of Monte Carlo forward simulation - results do not get validated in any sense. This where Bayesian inference comes into play, as a method to constrain modeling outcomes by the use of geological likelihood functions. We will introduce you to the approach and how to use it with GemPy and pymc in the following chapter."
   ]
  },
  {
   "cell_type": "code",
   "execution_count": 43,
   "metadata": {
    "scrolled": true
   },
   "outputs": [
    {
     "name": "stdout",
     "output_type": "stream",
     "text": [
      "closing vtk\n"
     ]
    },
    {
     "data": {
      "text/plain": [
       "<gempy.plotting.plot.vtkPlot at 0x7fb3a4e1b748>"
      ]
     },
     "execution_count": 43,
     "metadata": {},
     "output_type": "execute_result"
    }
   ],
   "source": [
    "ver, sim = gp.get_surfaces(interp_data,lith_block[1], None, original_scale= True)\n",
    "gp.plotting.plot_surfaces_3D_real_time(geo_data, interp_data,\n",
    "                                       ver, sim, posterior=post, alpha=1)"
   ]
  },
  {
   "cell_type": "code",
   "execution_count": null,
   "metadata": {},
   "outputs": [],
   "source": []
  }
 ],
 "metadata": {
  "kernelspec": {
   "display_name": "Python 3",
   "language": "python",
   "name": "python3"
  },
  "language_info": {
   "codemirror_mode": {
    "name": "ipython",
    "version": 3
   },
   "file_extension": ".py",
   "mimetype": "text/x-python",
   "name": "python",
   "nbconvert_exporter": "python",
   "pygments_lexer": "ipython3",
   "version": "3.6.6"
  },
  "latex_envs": {
   "LaTeX_envs_menu_present": true,
   "autocomplete": true,
   "bibliofile": "biblio.bib",
   "cite_by": "apalike",
   "current_citInitial": 1,
   "eqLabelWithNumbers": true,
   "eqNumInitial": 1,
   "hotkeys": {
    "equation": "Ctrl-E",
    "itemize": "Ctrl-I"
   },
   "labels_anchors": false,
   "latex_user_defs": false,
   "report_style_numbering": false,
   "user_envs_cfg": false
  },
  "toc": {
   "colors": {
    "hover_highlight": "#DAA520",
    "running_highlight": "#FF0000",
    "selected_highlight": "#FFD700"
   },
   "moveMenuLeft": true,
   "nav_menu": {
    "height": "207px",
    "width": "252px"
   },
   "navigate_menu": true,
   "number_sections": true,
   "sideBar": true,
   "threshold": 4,
   "toc_cell": false,
   "toc_section_display": "block",
   "toc_window_display": false,
   "widenNotebook": false
  }
 },
 "nbformat": 4,
 "nbformat_minor": 2
}
